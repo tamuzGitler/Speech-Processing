{
 "cells": [
  {
   "attachments": {},
   "cell_type": "raw",
   "metadata": {},
   "source": [
    "In this part of the exercise we will be experimenting with modifying audio in various ways to stretch / shrink it through time and to modify it's pitch.\n",
    "\n",
    "---"
   ]
  },
  {
   "attachments": {},
   "cell_type": "raw",
   "metadata": {},
   "source": [
    "Part A: Interpolating over time.\n",
    "\n",
    "1. load 'audio_16k/Basta_16k.wav' audio file (note that it is on stereo)\n",
    "2. use `torch.nn.functional.interpolate` with `mode='bilinear` to stretch / compress the signal with 1.2, 0.8 factor respectfully.\n",
    "3. save these samples to outputs directory as 'interpolation_0_8.wav', 'interpolation_1_2.wav' and listen to them, do you notice something odd? why do you think this happens? - answear in a markdown cell below."
   ]
  },
  {
   "cell_type": "code",
   "execution_count": 12,
   "metadata": {
    "ExecuteTime": {
     "start_time": "2023-04-29T23:36:26.820255Z",
     "end_time": "2023-04-29T23:36:26.888074Z"
    }
   },
   "outputs": [],
   "source": [
    "import librosa\n",
    "import soundfile\n",
    "import numpy as np\n",
    "import scipy\n",
    "import matplotlib.pyplot as plt\n",
    "from librosa import feature\n",
    "from librosa import display\n",
    "from torchaudio.transforms import Resample\n",
    "import torch\n",
    "import torchaudio\n",
    "import soundfile\n",
    "from scipy.io import wavfile\n",
    "\n",
    "basta = 'audio_16k/Basta_16k.wav'\n",
    "################### Part A1 ###################\n",
    "\n",
    "# basta_song, sr = librosa.load(basta)\n",
    "basta_song, sr = soundfile.read(basta)\n",
    "audio = basta_song.reshape(1, 1, len(basta_song), 2)\n",
    "audio = torch.from_numpy(audio)\n",
    "\n",
    "import torch\n",
    "import librosa\n",
    "\n",
    "\n",
    "######################## Part A: Interpolating over time ########################\n",
    "def read_audio():\n",
    "    file_path = \"audio_16k/Basta_16k.wav\"\n",
    "    audio, sr = soundfile.read(file_path)\n",
    "    audio = audio.reshape(1, 1, len(audio), 2)\n",
    "    audio = torch.from_numpy(audio)\n",
    "    return audio\n",
    "\n",
    "\n",
    "def interpolate_audio(audio, scale_factor, path):\n",
    "    streched = torch.nn.functional.interpolate(audio, scale_factor=scale_factor, mode='bilinear')\n",
    "    streched = streched.squeeze()\n",
    "    soundfile.write(path, streched, sr)\n",
    "\n",
    "\n",
    "audio = read_audio()\n",
    "interpolate_audio(audio=audio, scale_factor=1.2, path=\"outputs/interpolation_1_2.wav\")\n",
    "interpolate_audio(audio=audio, scale_factor=0.8, path=\"outputs/interpolation_0_8.wav\")"
   ]
  },
  {
   "attachments": {},
   "cell_type": "raw",
   "metadata": {
    "ExecuteTime": {
     "start_time": "2023-04-29T23:03:43.473831Z",
     "end_time": "2023-04-29T23:03:43.482800Z"
    }
   },
   "source": [
    "Answer non-code questions here\n",
    "1. the pitch of Basta changed, when we compressed the audio the pitch increased and when we streched it the pitch decreased.\n",
    "\n",
    "2. another odd bihaviour we notice was that when we used 0.8 factor we expected the audio to sound slower but it behave the opposite (same happened with factor 1.2)"
   ],
   "outputs": [],
   "execution_count": 23
  },
  {
   "attachments": {},
   "cell_type": "raw",
   "metadata": {
    "ExecuteTime": {
     "start_time": "2023-04-29T23:03:45.711978Z",
     "end_time": "2023-04-29T23:03:45.745886Z"
    }
   },
   "source": [
    "Part B: Naive time stretch (tempo shift).\n",
    "\n",
    "In this part you would be required to write a function that perform a SIMPLE augmentation over the audio:\n",
    "1. `naive_tempo_shift(wav, factor)` = stretch an audiofile by a given factor, e.g 0.8 factor should result a slowdown to 0.8x the original audio (output a LONGER wav). \n",
    "2. load 'audio_16k/Basta_16k.wav' and generate a tempo shift of x{0.8, 1.2} and save these generated audio files to outputs/naive_pitch_shift_{factor using _ instead if .}.wav\n",
    "\n",
    "Note: This should be a Naive implementation, achieveable using torch.stft, torch.istft, torch.fft.fft, torch.fft.ifft alone and programable in a few lines."
   ],
   "outputs": [],
   "execution_count": 24
  },
  {
   "cell_type": "code",
   "execution_count": 13,
   "metadata": {
    "ExecuteTime": {
     "start_time": "2023-04-29T23:36:26.874110Z",
     "end_time": "2023-04-29T23:36:26.952899Z"
    }
   },
   "outputs": [],
   "source": [
    "######################## part B: Naive time stretch ########################\n",
    "\n",
    "\n",
    "def naive_tempo_shift(wav, factor):\n",
    "    n_fft = 512\n",
    "    hop_length = n_fft / 4\n",
    "    stft = torch.stft(wav,n_fft=n_fft, return_complex=True)\n",
    "    return torch.istft(stft , n_fft=n_fft, hop_length=int(hop_length / factor),\n",
    "                       return_complex=False)\n",
    "\n",
    "def read_audio2():\n",
    "    file_path = \"audio_16k/Basta_16k.wav\"\n",
    "    audio, sr = librosa.load(file_path)\n",
    "    audio = torch.from_numpy(audio)\n",
    "    return audio\n",
    "\n",
    "\n",
    "audio = read_audio2()\n",
    "compress = naive_tempo_shift(audio, 0.8)\n",
    "stretched = naive_tempo_shift(audio, 1.2)\n",
    "\n",
    "soundfile.write(\"outputs/naive_pitch_shift_0_8.wav\", compress, sr)\n",
    "soundfile.write(\"outputs/naive_pitch_shift_1_2.wav\", stretched, sr)"
   ]
  },
  {
   "attachments": {},
   "cell_type": "raw",
   "metadata": {},
   "source": [
    "Part C: Phase vocoder\n",
    "In this subsection you will implement version of a slightly better algorithm to perform time_stretch called Phase vocoder.\n",
    "We do not aim to get into depth of this algorithm design, yet we think that this algorithm is cool to know so in this part you will implement it from a given pseudo code.\n",
    "\n",
    "1. Implement the algorithm following the pseudo code below for the function time_stretch.\n",
    "2. Load 'audio_16k/Basta_16k.wav' and use time_stretch with factors x0.8, 1.2, save these generations to `outputs/phase_vocoder_{factor, replace '.' with '_'}.wav`\n",
    "3. Do you notice anything different from the previous naive time stretch (besides magnitude differences)? why do you think it is different?\n",
    "\n",
    "Guidance: use torch, torchaudio functions in this section. \n",
    "\n",
    "-\n",
    "Pseudo code:\n",
    "-\n",
    "\n",
    "time_stretch(signal, factor, win_size=1024, hop=1024//4):\n",
    "    # create window\n",
    "    hann_window = construct_hann_window(win_size)\n",
    "\n",
    "    # draw two complex STFTs\n",
    "    new_hop = int(hop * factor)\n",
    "    stft_left = get_complex_stft(signal[:-hop], win_size, new_hop, hann_window)\n",
    "    stft_right = get_complex_stft(signal[hop:], win_size, new_hop, hann_window)\n",
    "\n",
    "    # calculate accumulated phase delta and reconstruct phase from it\n",
    "    phase = get_acc_phase_delta(stft_left, stft_right)\n",
    "\n",
    "    # reconstruct component from phase\n",
    "    re, im = get_re_im_from_phase(phase)\n",
    "    complex_new_stft = view_as_complex(stack([re, im], dim=-1)) * abs(stft_right))\n",
    "    output = istft(complex_new_stft, win_length=win_size, hop_length=hop, window=hann_window)\n",
    "\n",
    "    return output\n",
    "\n",
    "-\n",
    "Pseudo functions:\n",
    "-\n",
    "\n",
    "construct_hann_window(win_size):\n",
    "    return a vector representing a hanning window, hint: see torch.hann_window\n",
    "\n",
    "get_complex_stft(signal, win_size, hop, window):\n",
    "    return a complex representation of the stft (x + jy form)\n",
    "\n",
    "get_acc_phase_delta(stft_left, stft_right):\n",
    "    # calculate angular distance between two complex STFTs\n",
    "    phase_delta = angle(stft_right) - angle(stft_left)\n",
    "\n",
    "    # accumulate phase, follow this recursive formula\n",
    "    for i in {1...length(phase_delta)}: phase[i] := phase_delta[i] + phase[i-1]; phase[0] = phase_delta[0]\n",
    "    \n",
    "    # round phase back to [-2 * pi, 2 * pi] range\n",
    "    phase = phase  - (2 * pi * round(phase_delta / (2 * pi)))  \n",
    "\n",
    "    return phase\n",
    "\n",
    "get_re_im_from_phase(phase):\n",
    "    retrieves the real and imaginary components from a complex phase"
   ]
  },
  {
   "cell_type": "code",
   "execution_count": 14,
   "metadata": {
    "ExecuteTime": {
     "start_time": "2023-04-29T23:36:26.951903Z",
     "end_time": "2023-04-29T23:36:27.214380Z"
    }
   },
   "outputs": [],
   "source": [
    "def construct_hann_window(win_size):\n",
    "    # return a vector representing a hanning window, hint: see torch.hann_window\n",
    "    return torch.hann_window(win_size)\n",
    "\n",
    "def get_complex_stft(signal, win_size, hop, window):\n",
    "    # return a complex representation of the stft (x + jy form)\n",
    "    return torch.stft(signal, n_fft=win_size, hop_length=hop, window=window,\n",
    "                      return_complex=True)\n",
    "\n",
    "def get_acc_phase_delta(stft_left, stft_right):\n",
    "    # calculate angular distance between two complex STFTs\n",
    "    # phase_delta = angle(stft_right) - angle(stft_left)\n",
    "    phase_delta = (torch.angle(stft_right) - torch.angle(stft_left))\n",
    "    phase = torch.zeros(phase_delta.shape, dtype=torch.complex64)\n",
    "\n",
    "    phase[0] = phase_delta[0]\n",
    "    # accumulate phase, follow this recursive formula\n",
    "    # for i in {1...length(phase_delta)}: phase[i] := phase_delta[i] + phase[i-1]; phase[0] = phase_delta[0]\n",
    "    for i in range(1, len(phase_delta)):\n",
    "        phase[i] = phase_delta[i] + phase[i-1]\n",
    "\n",
    "    # round phase back to [-2 * pi, 2 * pi] range\n",
    "    phase = phase  - (2 * torch.pi * torch.round(phase_delta / (2 * torch.pi)))\n",
    "\n",
    "    return phase\n",
    "\n",
    "def get_re_im_from_phase(phase):\n",
    "    # retrieves the real and imaginary components from a complex phase\n",
    "    return torch.real(phase), torch.imag(phase)\n",
    "\n",
    "def time_stretch(signal, factor, win_size=1024, hop=1024//4):\n",
    "    # create window\n",
    "    hann_window = construct_hann_window(win_size)\n",
    "\n",
    "    # draw two complex STFTs\n",
    "    new_hop = int(hop * factor)\n",
    "    stft_left = get_complex_stft(signal[:-hop], win_size, new_hop, hann_window)\n",
    "    stft_right = get_complex_stft(signal[hop:], win_size, new_hop, hann_window)\n",
    "\n",
    "    # calculate accumulated phase delta and reconstruct phase from it\n",
    "    phase = get_acc_phase_delta(stft_left, stft_right)\n",
    "\n",
    "    # reconstruct component from phase\n",
    "    re, im = get_re_im_from_phase(phase)\n",
    "    complex_new_stft = torch.view_as_complex(torch.stack([re, im], dim=-1)) * torch.abs(stft_right)\n",
    "    output = torch.istft(complex_new_stft, n_fft=win_size, hop_length=hop,window=hann_window)\n",
    "\n",
    "    return output\n",
    "\n",
    "file_path = \"audio_16k/Basta_16k.wav\"\n",
    "audio, sr = librosa.load(file_path)\n",
    "audio = torch.from_numpy(audio)\n",
    "\n",
    "time_stretched_0_8 = time_stretch(audio, 0.8)\n",
    "soundfile.write(\"outputs/phase_vocoder_0_8.wav\", time_stretched_0_8, sr)\n",
    "time_stretched_1_2 = time_stretch(audio, 1.2)\n",
    "soundfile.write(\"outputs/phase_vocoder_1_2.wav\", time_stretched_1_2, sr)"
   ]
  },
  {
   "attachments": {},
   "cell_type": "raw",
   "metadata": {},
   "source": [
    "Answer non-code questions here\n",
    "We honestly don't have the tools to answer this question because we do not fully understand the\n",
    "way the algorithm works (no explanations were provided), perhaps the metalic sound we got here is\n",
    " a difference because we are not simply altering the hop length like before in a naive way."
   ]
  }
 ],
 "metadata": {
  "kernelspec": {
   "display_name": "env",
   "language": "python",
   "name": "python3"
  },
  "language_info": {
   "codemirror_mode": {
    "name": "ipython",
    "version": 3
   },
   "file_extension": ".py",
   "mimetype": "text/x-python",
   "name": "python",
   "nbconvert_exporter": "python",
   "pygments_lexer": "ipython3",
   "version": "3.9.15"
  },
  "orig_nbformat": 4
 },
 "nbformat": 4,
 "nbformat_minor": 2
}
